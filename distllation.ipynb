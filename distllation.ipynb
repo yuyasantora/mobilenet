{
 "cells": [
  {
   "cell_type": "code",
   "execution_count": 1,
   "metadata": {},
   "outputs": [],
   "source": [
    "from torchvision.models.detection import fasterrcnn_resnet50_fpn, retinanet_resnet50_fpn # 親モデル\n",
    "from torchvision.models.detection import ssdlite320_mobilenet_v3_large # 子モデル\n",
    "from torchvision import transforms as T\n",
    "import tqdm\n",
    "import torch.optim as optim\n",
    "import os\n",
    "from torch.utils.tensorboard import SummaryWriter\n",
    "import torch\n",
    "import time\n"
   ]
  },
  {
   "cell_type": "code",
   "execution_count": 3,
   "metadata": {},
   "outputs": [
    {
     "name": "stdout",
     "output_type": "stream",
     "text": [
      "loading annotations into memory...\n",
      "Done (t=0.07s)\n",
      "creating index...\n",
      "index created!\n"
     ]
    }
   ],
   "source": [
    "# 異常歯の検出\n",
    "num_classes = 5\n",
    "\n",
    "\"\"\"Dataset、Dataloaderの定義\"\"\"\n",
    "# データセットの定義\n",
    "from torchvision.datasets import CocoDetection\n",
    "from data import CustomCocoDetection\n",
    "from torch.utils.data import DataLoader\n",
    "\n",
    "# データセットのパス\n",
    "root = \"C:/Users/ohhara/mobilenetv2-ssd/dataset/quadrant-enumeration-disease/xrays\"\n",
    "annFile = \"C:/Users/ohhara/mobilenetv2-ssd/dataset/quadrant-enumeration-disease/train_corrected.json\"\n",
    "\n",
    "target_size = (320, 320)\n",
    "\n",
    "transform = T.Compose([\n",
    "    #T.ToTensor(),\n",
    "    T.ToTensor(),\n",
    "    T.Normalize(mean=[0.485, 0.456, 0.406], std=[0.229, 0.224, 0.225]),\n",
    "    \n",
    "\n",
    "])\n",
    "\n",
    "def collate_fn(batch):\n",
    "    return tuple(zip(*batch))\n",
    "# データセットの作成\n",
    "dataset = CustomCocoDetection(root=root, annFile=annFile, transform=transform, target_size=target_size)\n",
    "\n",
    "dataloader = DataLoader(dataset, batch_size=16, shuffle=True, collate_fn=collate_fn, drop_last=True)\n",
    "# データローダーの作成\n",
    "first_batch_image, first_batch_target = next(iter(dataloader))\n",
    "\n",
    "\n",
    "                                                                 "
   ]
  },
  {
   "cell_type": "code",
   "execution_count": 4,
   "metadata": {},
   "outputs": [
    {
     "name": "stderr",
     "output_type": "stream",
     "text": [
      "c:\\Users\\user\\anaconda3\\envs\\mmpretrain\\Lib\\site-packages\\torchvision\\models\\_utils.py:208: UserWarning: The parameter 'pretrained' is deprecated since 0.13 and may be removed in the future, please use 'weights' instead.\n",
      "  warnings.warn(\n",
      "c:\\Users\\user\\anaconda3\\envs\\mmpretrain\\Lib\\site-packages\\torchvision\\models\\_utils.py:223: UserWarning: Arguments other than a weight enum or `None` for 'weights' are deprecated since 0.13 and may be removed in the future. The current behavior is equivalent to passing `weights=None`.\n",
      "  warnings.warn(msg)\n"
     ]
    },
    {
     "name": "stdout",
     "output_type": "stream",
     "text": [
      "Teacher model parameters: 32230929\n",
      "Student model parameters: 3758900\n"
     ]
    }
   ],
   "source": [
    "# 二つのモデルを定義\n",
    "teacher_model = retinanet_resnet50_fpn(pretrained=False, num_classes=num_classes)\n",
    "student_model = ssdlite320_mobilenet_v3_large(pretrained=False, num_classes=num_classes)\n",
    "\n",
    "# モデルのパラメータ数を表示\n",
    "print(f\"Teacher model parameters: {sum(p.numel() for p in teacher_model.parameters())}\")\n",
    "print(f\"Student model parameters: {sum(p.numel() for p in student_model.parameters())}\")\n",
    "\n",
    "\n"
   ]
  },
  {
   "cell_type": "code",
   "execution_count": null,
   "metadata": {},
   "outputs": [
    {
     "name": "stdout",
     "output_type": "stream",
     "text": [
      "cuda\n"
     ]
    },
    {
     "name": "stderr",
     "output_type": "stream",
     "text": [
      "100%|██████████| 44/44 [27:01<00:00, 36.84s/it]\n"
     ]
    },
    {
     "name": "stdout",
     "output_type": "stream",
     "text": [
      "epoch:1\n",
      "loss:1.8654985129833221\n"
     ]
    },
    {
     "name": "stderr",
     "output_type": "stream",
     "text": [
      "100%|██████████| 44/44 [27:00<00:00, 36.84s/it]\n"
     ]
    },
    {
     "name": "stdout",
     "output_type": "stream",
     "text": [
      "epoch:2\n",
      "loss:1.8011962961066852\n"
     ]
    },
    {
     "name": "stderr",
     "output_type": "stream",
     "text": [
      "100%|██████████| 44/44 [27:00<00:00, 36.83s/it]\n"
     ]
    },
    {
     "name": "stdout",
     "output_type": "stream",
     "text": [
      "epoch:3\n",
      "loss:1.7165450047362933\n"
     ]
    },
    {
     "name": "stderr",
     "output_type": "stream",
     "text": [
      "100%|██████████| 44/44 [27:05<00:00, 36.94s/it]\n"
     ]
    },
    {
     "name": "stdout",
     "output_type": "stream",
     "text": [
      "epoch:4\n",
      "loss:1.6794976266947659\n"
     ]
    },
    {
     "name": "stderr",
     "output_type": "stream",
     "text": [
      "  7%|▋         | 3/44 [01:38<22:28, 32.90s/it]"
     ]
    }
   ],
   "source": [
    "# 教師モデルを学習させる\n",
    "device = torch.device(\"cuda\" if torch.cuda.is_available() else \"cpu\")\n",
    "print(device)\n",
    "teacher_model.to(device)\n",
    "\n",
    "teacher_model.train()\n",
    "save_dir = \"C:/Users/ohhara/mobilenetv2-ssd/distillation/teacher_model\"\n",
    "os.makedirs(save_dir, exist_ok=True)\n",
    "epochs = 200\n",
    "\n",
    "optimizer = optim.SGD(teacher_model.parameters(), lr=0.0001, momentum=0.9)\n",
    "start_time = time.time()\n",
    "\n",
    "for epoch in range(epochs):\n",
    "    writer = SummaryWriter\n",
    "\n",
    "    epoch_loss = 0\n",
    "    for images, targets in tqdm.tqdm(dataloader):\n",
    "        images = [image.to(device) for image in images]\n",
    "        targets = [{k: v.to(device) for k, v in t.items()} for t in targets]\n",
    "\n",
    "        # 勾配のリセット\n",
    "        optimizer.zero_grad()\n",
    "        loss_dict = teacher_model(images, targets)\n",
    "        losses = sum(loss for loss in loss_dict.values())\n",
    "        losses.backward()\n",
    "        optimizer.step()\n",
    "\n",
    "        epoch_loss += losses.item()\n",
    "\n",
    "    # 平均損失を計算\n",
    "    avg_epoch_loss = epoch_loss / len(dataloader)\n",
    "\n",
    "    \n",
    "    \n",
    "    print(f\"epoch:{epoch + 1}\")\n",
    "    print(f\"loss:{avg_epoch_loss}\")\n",
    "\n",
    "    if (epoch + 1) % 10 == 0:\n",
    "        save_path = os.path.join(save_dir, f\"model_epoch_{epoch + 1}.pth\")\n",
    "        torch.save(teacher_model.state_dict(), save_path)\n",
    "        print(f\"Saved model weights at {save_path}\")\n",
    "\n",
    "end_time = time.time()\n",
    "print(f\"Training time: {end_time - start_time} seconds\")\n"
   ]
  },
  {
   "cell_type": "code",
   "execution_count": null,
   "metadata": {},
   "outputs": [],
   "source": []
  }
 ],
 "metadata": {
  "kernelspec": {
   "display_name": "mmpretrain",
   "language": "python",
   "name": "python3"
  },
  "language_info": {
   "codemirror_mode": {
    "name": "ipython",
    "version": 3
   },
   "file_extension": ".py",
   "mimetype": "text/x-python",
   "name": "python",
   "nbconvert_exporter": "python",
   "pygments_lexer": "ipython3",
   "version": "3.12.9"
  }
 },
 "nbformat": 4,
 "nbformat_minor": 2
}
